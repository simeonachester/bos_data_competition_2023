{
 "cells": [
  {
   "cell_type": "code",
   "execution_count": 1,
   "metadata": {},
   "outputs": [],
   "source": [
    "import seaborn as sns\n",
    "from matplotlib import pyplot as plt\n",
    "import pandas as pd\n",
    "path = \"./../MICS6_2019_Stats Day Competition/Datasets/wm_Women_15_to_49_Stat_Day.xlsx\"\n",
    "women_dataset = pd.read_excel(path)\n",
    "path_2 = \"./../MICS6_2019_Stats Day Competition/Datasets/hh_Household_Stat_Day.xlsx\"\n",
    "household_dataset = pd.read_excel(path_2)"
   ]
  },
  {
   "cell_type": "code",
   "execution_count": 10,
   "metadata": {},
   "outputs": [
    {
     "name": "stdout",
     "output_type": "stream",
     "text": [
      "<class 'pandas.core.frame.DataFrame'>\n",
      "RangeIndex: 8285 entries, 0 to 8284\n",
      "Data columns (total 4 columns):\n",
      " #   Column  Non-Null Count  Dtype\n",
      "---  ------  --------------  -----\n",
      " 0   HH1     8285 non-null   int64\n",
      " 1   HH2     8285 non-null   int64\n",
      " 2   HH7     8285 non-null   int64\n",
      " 3   HH6     8285 non-null   int64\n",
      "dtypes: int64(4)\n",
      "memory usage: 259.0 KB\n"
     ]
    }
   ],
   "source": [
    "# HH2 - Household number\n",
    "# HH7 - Region\n",
    "# HH6 - Area\n",
    "hh_extract = household_dataset[[\"HH1\", \"HH2\", \"HH7\", \"HH6\"]]\n",
    "hh_extract.info()"
   ]
  },
  {
   "cell_type": "code",
   "execution_count": 6,
   "metadata": {},
   "outputs": [
    {
     "name": "stdout",
     "output_type": "stream",
     "text": [
      "<class 'pandas.core.frame.DataFrame'>\n",
      "RangeIndex: 6576 entries, 0 to 6575\n",
      "Data columns (total 5 columns):\n",
      " #   Column  Non-Null Count  Dtype  \n",
      "---  ------  --------------  -----  \n",
      " 0   HH1     6576 non-null   int64  \n",
      " 1   HH2     6576 non-null   int64  \n",
      " 2   WB4     5887 non-null   float64\n",
      " 3   WB5     5887 non-null   float64\n",
      " 4   WB6A    5790 non-null   float64\n",
      "dtypes: float64(3), int64(2)\n",
      "memory usage: 257.0 KB\n"
     ]
    }
   ],
   "source": [
    "# HH1 - cluster number\n",
    "# HH2  - Household number\n",
    "# WB4  - Age of women\n",
    "# WB5  - Ever attended school\n",
    "# WB6A - Highest level of school attended\n",
    "w_extract = women_dataset[[\"HH1\", \"HH2\", \"WB4\", \"WB5\", \"WB6A\"]]\n",
    "# temp = dataset[selected_columns]\n",
    "# df_0 = temp[temp[\"helevel\"].notna() &\n",
    "#            temp[\"HHSEX\"].notna()]\n",
    "# temp.info()\n",
    "# df_0.info()\n",
    "# df_0 = df_0[df_0[\"helevel\"] != 9]\n",
    "w_extract.info()"
   ]
  },
  {
   "cell_type": "code",
   "execution_count": 9,
   "metadata": {},
   "outputs": [],
   "source": [
    "# HH1 - cluster_number\n",
    "# HH2 - household_number\n",
    "def get_region_and_area(cluster_number, household_number):\n",
    "    hh_extract[hh_extract[\"HH1\"] == cluster_number &\n",
    "               hh_extract[\"HH2\"] == household_number]\n",
    "    pass\n",
    "\n",
    "\n",
    "get_region_and_area(2, 12)\n",
    "# df_0 = w_extract\n",
    "# df_0[\"region\"] = df_0.apply(lambda x: x)"
   ]
  },
  {
   "cell_type": "code",
   "execution_count": null,
   "metadata": {},
   "outputs": [],
   "source": []
  }
 ],
 "metadata": {
  "kernelspec": {
   "display_name": "Python 3",
   "language": "python",
   "name": "python3"
  },
  "language_info": {
   "codemirror_mode": {
    "name": "ipython",
    "version": 3
   },
   "file_extension": ".py",
   "mimetype": "text/x-python",
   "name": "python",
   "nbconvert_exporter": "python",
   "pygments_lexer": "ipython3",
   "version": "3.10.12"
  },
  "orig_nbformat": 4
 },
 "nbformat": 4,
 "nbformat_minor": 2
}
