{
 "cells": [
  {
   "cell_type": "code",
   "execution_count": 10,
   "metadata": {},
   "outputs": [],
   "source": [
    "import seaborn as sns\n",
    "from matplotlib import pyplot as plt\n",
    "import pandas as pd\n",
    "import numpy as np\n",
    "path = \"./MICS6_2023_Stats-Day-Competition/MICS6_2019_Stats Day Competition/Datasets/hh_Household_Stat_Day.xlsx\"\n",
    "dataset = pd.read_excel(path)"
   ]
  },
  {
   "cell_type": "code",
   "execution_count": 11,
   "metadata": {},
   "outputs": [
    {
     "name": "stdout",
     "output_type": "stream",
     "text": [
      "<class 'pandas.core.frame.DataFrame'>\n",
      "RangeIndex: 8285 entries, 0 to 8284\n",
      "Data columns (total 4 columns):\n",
      " #   Column                            Non-Null Count  Dtype  \n",
      "---  ------                            --------------  -----  \n",
      " 0   household_have_bed                8285 non-null   float64\n",
      " 1   household_have_sleeping_mattress  8285 non-null   float64\n",
      " 2   region_number                     8285 non-null   int64  \n",
      " 3   urban_rural                       8285 non-null   int64  \n",
      "dtypes: float64(2), int64(2)\n",
      "memory usage: 259.0 KB\n"
     ]
    },
    {
     "name": "stderr",
     "output_type": "stream",
     "text": [
      "/tmp/ipykernel_24133/4124831251.py:8: SettingWithCopyWarning: \n",
      "A value is trying to be set on a copy of a slice from a DataFrame\n",
      "\n",
      "See the caveats in the documentation: https://pandas.pydata.org/pandas-docs/stable/user_guide/indexing.html#returning-a-view-versus-a-copy\n",
      "  temp.rename(columns={\n",
      "/tmp/ipykernel_24133/4124831251.py:15: SettingWithCopyWarning: \n",
      "A value is trying to be set on a copy of a slice from a DataFrame\n",
      "\n",
      "See the caveats in the documentation: https://pandas.pydata.org/pandas-docs/stable/user_guide/indexing.html#returning-a-view-versus-a-copy\n",
      "  temp[\"household_have_bed\"].fillna(3, inplace=True)\n",
      "/tmp/ipykernel_24133/4124831251.py:16: SettingWithCopyWarning: \n",
      "A value is trying to be set on a copy of a slice from a DataFrame\n",
      "\n",
      "See the caveats in the documentation: https://pandas.pydata.org/pandas-docs/stable/user_guide/indexing.html#returning-a-view-versus-a-copy\n",
      "  temp[\"household_have_sleeping_mattress\"].fillna(3, inplace=True)\n"
     ]
    }
   ],
   "source": [
    "# Household have bed (HC7C), mattress for sleeping (HC7F) by Region(HH7) then Area (HH6)\n",
    "# bed and mattress\n",
    "# bed but no matress\n",
    "# matress bu no bed\n",
    "# neither\n",
    "selected_columns = [\"HC7C\", \"HC7F\", \"HH7\", \"HH6\"]\n",
    "temp = dataset[selected_columns]\n",
    "temp.rename(columns={\n",
    "    \"HC7C\": \"household_have_bed\",\n",
    "    \"HC7F\": \"household_have_sleeping_mattress\",\n",
    "    \"HH7\": \"region_number\",\n",
    "    \"HH6\": \"urban_rural\"\n",
    "}, inplace=True)\n",
    "\n",
    "temp[\"household_have_bed\"].fillna(3, inplace=True)\n",
    "temp[\"household_have_sleeping_mattress\"].fillna(3, inplace=True)\n",
    "\n",
    "temp.info()"
   ]
  },
  {
   "cell_type": "markdown",
   "metadata": {},
   "source": [
    "### Remove rows where n/a is found in the both columns of household_have_bed and household_have_sleeping_mattress\n"
   ]
  },
  {
   "cell_type": "code",
   "execution_count": 12,
   "metadata": {},
   "outputs": [],
   "source": [
    "df = temp[~((temp[\"household_have_bed\"] ==\n",
    "             3) & (temp[\"household_have_sleeping_mattress\"] == 3))]\n",
    "\n",
    "# should have 8285-1213=7072"
   ]
  },
  {
   "cell_type": "code",
   "execution_count": 13,
   "metadata": {},
   "outputs": [
    {
     "name": "stderr",
     "output_type": "stream",
     "text": [
      "/tmp/ipykernel_24133/2206790113.py:1: SettingWithCopyWarning: \n",
      "A value is trying to be set on a copy of a slice from a DataFrame.\n",
      "Try using .loc[row_indexer,col_indexer] = value instead\n",
      "\n",
      "See the caveats in the documentation: https://pandas.pydata.org/pandas-docs/stable/user_guide/indexing.html#returning-a-view-versus-a-copy\n",
      "  df[\"bed_or_mattress\"] = df.apply(\n"
     ]
    }
   ],
   "source": [
    "df[\"bed_or_mattress\"] = df.apply(\n",
    "    lambda x: x[\"household_have_bed\"] == 1 or x[\"household_have_sleeping_mattress\"] == 1, axis=1)"
   ]
  },
  {
   "cell_type": "code",
   "execution_count": 14,
   "metadata": {},
   "outputs": [],
   "source": [
    "# respondents_per_region\n",
    "respondents_per_region = df[[\"region_number\", \"urban_rural\"]].groupby(\n",
    "    by=\"region_number\").count().reset_index()"
   ]
  },
  {
   "cell_type": "code",
   "execution_count": 15,
   "metadata": {},
   "outputs": [],
   "source": [
    "#    \"HC7C\": \"household_have_bed\",\n",
    "#    \"HC7F\": \"household_have_sleeping_mattress\",\n",
    "#    \"HH7\": \"region_number\",\n",
    "#    \"HH6\": \"urban_rural\""
   ]
  },
  {
   "cell_type": "code",
   "execution_count": 16,
   "metadata": {},
   "outputs": [
    {
     "ename": "NameError",
     "evalue": "name 'df_0' is not defined",
     "output_type": "error",
     "traceback": [
      "\u001b[0;31m---------------------------------------------------------------------------\u001b[0m",
      "\u001b[0;31mNameError\u001b[0m                                 Traceback (most recent call last)",
      "\u001b[1;32m/home/kerboros/Documents/github/bos_data_competition_2023/HH_have_bed_mattress.ipynb Cell 8\u001b[0m line \u001b[0;36m1\n\u001b[1;32m      <a href='vscode-notebook-cell:/home/kerboros/Documents/github/bos_data_competition_2023/HH_have_bed_mattress.ipynb#X10sZmlsZQ%3D%3D?line=4'>5</a>\u001b[0m     \u001b[39mreturn\u001b[39;00m region_total\n\u001b[1;32m      <a href='vscode-notebook-cell:/home/kerboros/Documents/github/bos_data_competition_2023/HH_have_bed_mattress.ipynb#X10sZmlsZQ%3D%3D?line=7'>8</a>\u001b[0m \u001b[39m#######################################################\u001b[39;00m\n\u001b[1;32m      <a href='vscode-notebook-cell:/home/kerboros/Documents/github/bos_data_competition_2023/HH_have_bed_mattress.ipynb#X10sZmlsZQ%3D%3D?line=8'>9</a>\u001b[0m \u001b[39m# bed and mattress\u001b[39;00m\n\u001b[0;32m---> <a href='vscode-notebook-cell:/home/kerboros/Documents/github/bos_data_competition_2023/HH_have_bed_mattress.ipynb#X10sZmlsZQ%3D%3D?line=9'>10</a>\u001b[0m temp_1 \u001b[39m=\u001b[39m df_0[(df_0[\u001b[39m\"\u001b[39m\u001b[39mHC7C\u001b[39m\u001b[39m\"\u001b[39m] \u001b[39m==\u001b[39m \u001b[39m1\u001b[39m) \u001b[39m&\u001b[39m (df_0[\u001b[39m\"\u001b[39m\u001b[39mHC7F\u001b[39m\u001b[39m\"\u001b[39m] \u001b[39m==\u001b[39m \u001b[39m1\u001b[39m)\n\u001b[1;32m     <a href='vscode-notebook-cell:/home/kerboros/Documents/github/bos_data_competition_2023/HH_have_bed_mattress.ipynb#X10sZmlsZQ%3D%3D?line=10'>11</a>\u001b[0m               ]\u001b[39m.\u001b[39mgroupby(by\u001b[39m=\u001b[39m[\u001b[39m\"\u001b[39m\u001b[39mHH7\u001b[39m\u001b[39m\"\u001b[39m, \u001b[39m\"\u001b[39m\u001b[39mHH6\u001b[39m\u001b[39m\"\u001b[39m])\u001b[39m.\u001b[39mcount()\u001b[39m.\u001b[39mreset_index()\n\u001b[1;32m     <a href='vscode-notebook-cell:/home/kerboros/Documents/github/bos_data_competition_2023/HH_have_bed_mattress.ipynb#X10sZmlsZQ%3D%3D?line=11'>12</a>\u001b[0m temp_1\u001b[39m.\u001b[39mdrop(columns\u001b[39m=\u001b[39m[\u001b[39m\"\u001b[39m\u001b[39mHC7F\u001b[39m\u001b[39m\"\u001b[39m], inplace\u001b[39m=\u001b[39m\u001b[39mTrue\u001b[39;00m)\n\u001b[1;32m     <a href='vscode-notebook-cell:/home/kerboros/Documents/github/bos_data_competition_2023/HH_have_bed_mattress.ipynb#X10sZmlsZQ%3D%3D?line=12'>13</a>\u001b[0m temp_1\u001b[39m.\u001b[39mrename(columns\u001b[39m=\u001b[39m{\u001b[39m\"\u001b[39m\u001b[39mHC7C\u001b[39m\u001b[39m\"\u001b[39m: \u001b[39m\"\u001b[39m\u001b[39mhas_bed_has_mattress\u001b[39m\u001b[39m\"\u001b[39m}, inplace\u001b[39m=\u001b[39m\u001b[39mTrue\u001b[39;00m)\n",
      "\u001b[0;31mNameError\u001b[0m: name 'df_0' is not defined"
     ]
    }
   ],
   "source": [
    "# respondents_per_area\n",
    "def get_region_total(region_number):\n",
    "    region_total = respondents_per_region[respondents_per_region[\"region_number\"]\n",
    "                                          == region_number][\"urban_rural\"].values[0]\n",
    "    return region_total\n",
    "\n",
    "\n",
    "#######################################################\n",
    "# bed and mattress\n",
    "temp_1 = df_0[(df_0[\"HC7C\"] == 1) & (df_0[\"HC7F\"] == 1)\n",
    "              ].groupby(by=[\"HH7\", \"HH6\"]).count().reset_index()\n",
    "temp_1.drop(columns=[\"HC7F\"], inplace=True)\n",
    "temp_1.rename(columns={\"HC7C\": \"has_bed_has_mattress\"}, inplace=True)\n",
    "\n",
    "# port = percent of region total\n",
    "temp_1[\"port_has_bed_has_mattress\"] = temp_1.apply(\n",
    "    lambda x: x[\"has_bed_has_mattress\"]/get_region_total(x[\"HH7\"]), axis=1)\n",
    "\n",
    "#######################################################\n",
    "# bed but no matress\n",
    "temp_2 = df_0[(df_0[\"HC7C\"] == 1) & (df_0[\"HC7F\"] == 2)\n",
    "              ].groupby(by=[\"HH7\", \"HH6\"]).count().reset_index()\n",
    "temp_2.drop(columns=[\"HC7F\"], inplace=True)\n",
    "temp_2.rename(columns={\"HC7C\": \"has_bed_no_mattress\"}, inplace=True)\n",
    "\n",
    "# port = percent of region total\n",
    "temp_2[\"port_has_bed_no_mattress\"] = temp_2.apply(\n",
    "    lambda x: x[\"has_bed_no_mattress\"]/get_region_total(x[\"HH7\"]), axis=1)\n",
    "\n",
    "#######################################################\n",
    "# no bed but has mattress\n",
    "temp_3 = df_0[(df_0[\"HC7C\"] == 2) & (df_0[\"HC7F\"] == 1)\n",
    "              ].groupby(by=[\"HH7\", \"HH6\"]).count().reset_index()\n",
    "temp_3.drop(columns=[\"HC7F\"], inplace=True)\n",
    "temp_3.rename(columns={\"HC7C\": \"no_bed_has_mattress\"}, inplace=True)\n",
    "temp_3\n",
    "\n",
    "# port = percent of region total\n",
    "temp_3[\"port_no_bed_has_mattress\"] = temp_3.apply(\n",
    "    lambda x: x[\"no_bed_has_mattress\"]/get_region_total(x[\"HH7\"]), axis=1)\n",
    "\n",
    "#######################################################\n",
    "# neither\n",
    "temp_4 = df_0[(df_0[\"HC7C\"] == 2) & (df_0[\"HC7F\"] == 2)\n",
    "              ].groupby(by=[\"HH7\", \"HH6\"]).count().reset_index()\n",
    "temp_4.drop(columns=[\"HC7F\"], inplace=True)\n",
    "temp_4.rename(columns={\"HC7C\": \"no_bed_no_mattress\"}, inplace=True)\n",
    "temp_4\n",
    "\n",
    "# port = percent of region total\n",
    "temp_4[\"port_no_bed_no_mattress\"] = temp_4.apply(\n",
    "    lambda x: x[\"no_bed_no_mattress\"]/get_region_total(x[\"HH7\"]), axis=1)\n",
    "\n",
    "\n",
    "df_1 = temp_1[[\"HH7\", \"HH6\", \"has_bed_has_mattress\"]]\n",
    "df_1[\"has_bed_no_mattress\"] = temp_2[[\"has_bed_no_mattress\"]]\n",
    "df_1[\"no_bed_has_mattress\"] = temp_3[[\"no_bed_has_mattress\"]]\n",
    "df_1[\"no_bed_no_mattress\"] = temp_4[[\"no_bed_no_mattress\"]]\n",
    "\n",
    "df_1"
   ]
  },
  {
   "cell_type": "code",
   "execution_count": 17,
   "metadata": {},
   "outputs": [
    {
     "data": {
      "text/plain": [
       "Index(['bed_or_mattress'], dtype='object')"
      ]
     },
     "execution_count": 17,
     "metadata": {},
     "output_type": "execute_result"
    }
   ],
   "source": [
    "# df_2 = df[[\"region_number\", \"urban_rural\", \"bed_or_mattress\"]]\n",
    "# df_2.groupby(by=[\"region_number\", \"urban_rural\", \"bed_or_mattress\"]).count()\n",
    "# df_2 = df[\"region_number\" == 1]\n",
    "# respondents_per_region_area = df[[\"region_number\", \"urban_rural\", \"bed_or_mattress\"]].groupby(\n",
    "#    by=[\"region_number\", \"urban_rural\"]).aggregate('count')\n",
    "respondents_per_region_area = df[[\"region_number\", \"urban_rural\", \"bed_or_mattress\"]].groupby(\n",
    "    by=[\"region_number\", \"urban_rural\"]).count()\n",
    "respondents_per_region_area.columns"
   ]
  },
  {
   "cell_type": "code",
   "execution_count": 18,
   "metadata": {},
   "outputs": [],
   "source": [
    "# have_bed_or_mattress = df[df[\"bed_or_mattress\"] == True]\n",
    "have_bed_or_mattress = df[df[\"bed_or_mattress\"] == True][[\"region_number\", \"urban_rural\", \"bed_or_mattress\"]].groupby(\n",
    "    by=[\"region_number\", \"urban_rural\"]).count()\n",
    "have_bed_or_mattress.rename(\n",
    "    columns={\"bed_or_mattress\": \"have_bed_or_mattress\"}, inplace=True)\n",
    "neither_bed_or_mattress = df[df[\"bed_or_mattress\"] == False][[\"region_number\", \"urban_rural\", \"bed_or_mattress\"]].groupby(\n",
    "    by=[\"region_number\", \"urban_rural\"]).count()\n",
    "neither_bed_or_mattress.rename(\n",
    "    columns={\"bed_or_mattress\": \"neither_bed_or_mattress\"}, inplace=True)\n",
    "# neither_bed_or_mattress = df[df[\"bed_or_mattress\"] == False]"
   ]
  },
  {
   "cell_type": "code",
   "execution_count": 19,
   "metadata": {},
   "outputs": [],
   "source": [
    "t = pd.merge(have_bed_or_mattress, neither_bed_or_mattress,\n",
    "             how=\"outer\", left_index=True, right_index=True).reset_index()"
   ]
  },
  {
   "cell_type": "code",
   "execution_count": 20,
   "metadata": {},
   "outputs": [
    {
     "data": {
      "text/html": [
       "<div>\n",
       "<style scoped>\n",
       "    .dataframe tbody tr th:only-of-type {\n",
       "        vertical-align: middle;\n",
       "    }\n",
       "\n",
       "    .dataframe tbody tr th {\n",
       "        vertical-align: top;\n",
       "    }\n",
       "\n",
       "    .dataframe thead th {\n",
       "        text-align: right;\n",
       "    }\n",
       "</style>\n",
       "<table border=\"1\" class=\"dataframe\">\n",
       "  <thead>\n",
       "    <tr style=\"text-align: right;\">\n",
       "      <th></th>\n",
       "      <th>region_number</th>\n",
       "      <th>urban_rural</th>\n",
       "      <th>have_bed_or_mattress</th>\n",
       "      <th>neither_bed_or_mattress</th>\n",
       "    </tr>\n",
       "  </thead>\n",
       "  <tbody>\n",
       "    <tr>\n",
       "      <th>0</th>\n",
       "      <td>1</td>\n",
       "      <td>1</td>\n",
       "      <td>143</td>\n",
       "      <td>11.0</td>\n",
       "    </tr>\n",
       "    <tr>\n",
       "      <th>1</th>\n",
       "      <td>1</td>\n",
       "      <td>2</td>\n",
       "      <td>354</td>\n",
       "      <td>11.0</td>\n",
       "    </tr>\n",
       "    <tr>\n",
       "      <th>2</th>\n",
       "      <td>2</td>\n",
       "      <td>1</td>\n",
       "      <td>216</td>\n",
       "      <td>NaN</td>\n",
       "    </tr>\n",
       "    <tr>\n",
       "      <th>3</th>\n",
       "      <td>2</td>\n",
       "      <td>2</td>\n",
       "      <td>526</td>\n",
       "      <td>4.0</td>\n",
       "    </tr>\n",
       "    <tr>\n",
       "      <th>4</th>\n",
       "      <td>3</td>\n",
       "      <td>2</td>\n",
       "      <td>899</td>\n",
       "      <td>1.0</td>\n",
       "    </tr>\n",
       "    <tr>\n",
       "      <th>5</th>\n",
       "      <td>4</td>\n",
       "      <td>1</td>\n",
       "      <td>496</td>\n",
       "      <td>1.0</td>\n",
       "    </tr>\n",
       "    <tr>\n",
       "      <th>6</th>\n",
       "      <td>4</td>\n",
       "      <td>2</td>\n",
       "      <td>757</td>\n",
       "      <td>1.0</td>\n",
       "    </tr>\n",
       "    <tr>\n",
       "      <th>7</th>\n",
       "      <td>5</td>\n",
       "      <td>2</td>\n",
       "      <td>703</td>\n",
       "      <td>4.0</td>\n",
       "    </tr>\n",
       "    <tr>\n",
       "      <th>8</th>\n",
       "      <td>6</td>\n",
       "      <td>1</td>\n",
       "      <td>402</td>\n",
       "      <td>NaN</td>\n",
       "    </tr>\n",
       "    <tr>\n",
       "      <th>9</th>\n",
       "      <td>6</td>\n",
       "      <td>2</td>\n",
       "      <td>676</td>\n",
       "      <td>2.0</td>\n",
       "    </tr>\n",
       "    <tr>\n",
       "      <th>10</th>\n",
       "      <td>7</td>\n",
       "      <td>1</td>\n",
       "      <td>237</td>\n",
       "      <td>NaN</td>\n",
       "    </tr>\n",
       "    <tr>\n",
       "      <th>11</th>\n",
       "      <td>7</td>\n",
       "      <td>2</td>\n",
       "      <td>171</td>\n",
       "      <td>15.0</td>\n",
       "    </tr>\n",
       "    <tr>\n",
       "      <th>12</th>\n",
       "      <td>8</td>\n",
       "      <td>2</td>\n",
       "      <td>319</td>\n",
       "      <td>26.0</td>\n",
       "    </tr>\n",
       "    <tr>\n",
       "      <th>13</th>\n",
       "      <td>9</td>\n",
       "      <td>1</td>\n",
       "      <td>101</td>\n",
       "      <td>1.0</td>\n",
       "    </tr>\n",
       "    <tr>\n",
       "      <th>14</th>\n",
       "      <td>9</td>\n",
       "      <td>2</td>\n",
       "      <td>358</td>\n",
       "      <td>54.0</td>\n",
       "    </tr>\n",
       "    <tr>\n",
       "      <th>15</th>\n",
       "      <td>10</td>\n",
       "      <td>1</td>\n",
       "      <td>481</td>\n",
       "      <td>NaN</td>\n",
       "    </tr>\n",
       "    <tr>\n",
       "      <th>16</th>\n",
       "      <td>10</td>\n",
       "      <td>2</td>\n",
       "      <td>102</td>\n",
       "      <td>NaN</td>\n",
       "    </tr>\n",
       "  </tbody>\n",
       "</table>\n",
       "</div>"
      ],
      "text/plain": [
       "    region_number  urban_rural  have_bed_or_mattress  neither_bed_or_mattress\n",
       "0               1            1                   143                     11.0\n",
       "1               1            2                   354                     11.0\n",
       "2               2            1                   216                      NaN\n",
       "3               2            2                   526                      4.0\n",
       "4               3            2                   899                      1.0\n",
       "5               4            1                   496                      1.0\n",
       "6               4            2                   757                      1.0\n",
       "7               5            2                   703                      4.0\n",
       "8               6            1                   402                      NaN\n",
       "9               6            2                   676                      2.0\n",
       "10              7            1                   237                      NaN\n",
       "11              7            2                   171                     15.0\n",
       "12              8            2                   319                     26.0\n",
       "13              9            1                   101                      1.0\n",
       "14              9            2                   358                     54.0\n",
       "15             10            1                   481                      NaN\n",
       "16             10            2                   102                      NaN"
      ]
     },
     "execution_count": 20,
     "metadata": {},
     "output_type": "execute_result"
    }
   ],
   "source": [
    "t"
   ]
  },
  {
   "cell_type": "code",
   "execution_count": null,
   "metadata": {},
   "outputs": [
    {
     "name": "stderr",
     "output_type": "stream",
     "text": [
      "/home/kerboros/.local/lib/python3.10/site-packages/seaborn/axisgrid.py:118: UserWarning: The figure layout has changed to tight\n",
      "  self._figure.tight_layout(*args, **kwargs)\n"
     ]
    },
    {
     "data": {
      "text/plain": [
       "<seaborn.axisgrid.FacetGrid at 0x7f4cc9533070>"
      ]
     },
     "execution_count": 62,
     "metadata": {},
     "output_type": "execute_result"
    },
    {
     "data": {
      "image/png": "[encoded data removed]",
      "text/plain": [
       "<Figure size 591.611x500 with 1 Axes>"
      ]
     },
     "metadata": {},
     "output_type": "display_data"
    }
   ],
   "source": [
    "\n",
    "sns.catplot(\n",
    "    data=t,\n",
    "    # height=20,\n",
    "    x=\"region_number\",\n",
    "    y=\"have_bed_or_mattress\",\n",
    "    hue=\"urban_rural\",\n",
    "    kind=\"bar\",\n",
    ")"
   ]
  },
  {
   "cell_type": "code",
   "execution_count": null,
   "metadata": {},
   "outputs": [
    {
     "name": "stderr",
     "output_type": "stream",
     "text": [
      "/home/kerboros/.local/lib/python3.10/site-packages/seaborn/axisgrid.py:118: UserWarning: The figure layout has changed to tight\n",
      "  self._figure.tight_layout(*args, **kwargs)\n"
     ]
    },
    {
     "data": {
      "text/plain": [
       "<seaborn.axisgrid.FacetGrid at 0x7f4cc915b3d0>"
      ]
     },
     "execution_count": 63,
     "metadata": {},
     "output_type": "execute_result"
    },
    {
     "data": {
      "image/png": "[encoded data removed]",
      "text/plain": [
       "<Figure size 591.611x500 with 1 Axes>"
      ]
     },
     "metadata": {},
     "output_type": "display_data"
    }
   ],
   "source": [
    "sns.catplot(\n",
    "    data=t,\n",
    "    # height=20,\n",
    "    x=\"region_number\",\n",
    "    y=\"neither_bed_or_mattress\",\n",
    "    hue=\"urban_rural\",\n",
    "    kind=\"bar\",\n",
    ")"
   ]
  }
 ],
 "metadata": {
  "kernelspec": {
   "display_name": "Python 3",
   "language": "python",
   "name": "python3"
  },
  "language_info": {
   "codemirror_mode": {
    "name": "ipython",
    "version": 3
   },
   "file_extension": ".py",
   "mimetype": "text/x-python",
   "name": "python",
   "nbconvert_exporter": "python",
   "pygments_lexer": "ipython3",
   "version": "3.10.12"
  },
  "orig_nbformat": 4
 },
 "nbformat": 4,
 "nbformat_minor": 2
}
